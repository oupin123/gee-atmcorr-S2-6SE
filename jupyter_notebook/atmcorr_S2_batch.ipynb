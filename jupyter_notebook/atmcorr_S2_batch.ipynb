{
 "cells": [
  {
   "cell_type": "markdown",
   "metadata": {},
   "source": [
    "# Sentinel 2 Atmospheric Correction in Google Earth Engine"
   ]
  },
  {
   "cell_type": "markdown",
   "metadata": {},
   "source": [
    "Sentinel 2 is a satellite mission from the European Space Agency (ESA). It is very similar to NASA's Landsat satellites.\n",
    "\n",
    "There are two Sentinel 2 satellites, orbiting in a twin configuration, that provides 5 day revisits at the equator at up to 10m per pixel!\n",
    "\n",
    "Atmospheric correction requires a desktop application at present (i.e. ESA do not just provide the data corrected already). Here is a way to correct the data in Google Earth Engine"
   ]
  },
  {
   "cell_type": "markdown",
   "metadata": {},
   "source": [
    "### Start Earth Engine"
   ]
  },
  {
   "cell_type": "code",
   "execution_count": 3,
   "metadata": {
    "collapsed": false
   },
   "outputs": [],
   "source": [
    "import os, sys\n",
    "basepath = os.path.dirname(os.getcwd())\n",
    "sys.path.append(os.path.join(basepath,'bin'))\n",
    "import ee\n",
    "ee.Initialize()"
   ]
  },
  {
   "cell_type": "markdown",
   "metadata": {},
   "source": [
    "### Find Some Assets"
   ]
  },
  {
   "cell_type": "markdown",
   "metadata": {
    "collapsed": false
   },
   "source": [
    "We need a collection of images to correct. Let's take a look at beautiful Hawaii using the Sentinel 2 satellites."
   ]
  },
  {
   "cell_type": "code",
   "execution_count": 5,
   "metadata": {
    "collapsed": false
   },
   "outputs": [],
   "source": [
    "Honolulu = ee.Geometry.Point(-157.8392, 21.306)\n",
    "\n",
    "startDate = ee.Date('2016-01-01')\n",
    "endDate = ee.Date('2016-06-01')\n",
    "\n",
    "ic = ee.ImageCollection('COPERNICUS/S2')\\\n",
    "    .filterBounds(Honolulu)\\\n",
    "    .filterDate(startDate, endDate)\\\n",
    "    .filter(ee.Filter.lt('CLOUDY_PIXEL_PERCENTAGE',10))\\\n",
    "    .filter(ee.Filter.lt('MEAN_SOLAR_ZENITH_ANGLE',60))\n",
    "#                      ^\n",
    "#                      |\n",
    "# here we filtered out cloudy images and high solar zenith angles,\n",
    "# i.e. low solar elevation angles"
   ]
  },
  {
   "cell_type": "markdown",
   "metadata": {},
   "source": [
    "### Find Atmospheric Inputs"
   ]
  },
  {
   "cell_type": "markdown",
   "metadata": {},
   "source": [
    "Atmospheric correction code use the state of the atmosphere (e.g. H20, O3, AOT, etc.) as input. We could find that information and store it in a feature collection (i.e. whose properties are the atmospheric parameters)"
   ]
  },
  {
   "cell_type": "code",
   "execution_count": 34,
   "metadata": {
    "collapsed": false
   },
   "outputs": [],
   "source": [
    "import atmcorr\n",
    "import importlib\n",
    "importlib.reload(atmcorr)\n",
    "Atmcorr = atmcorr.Atmcorr\n",
    "\n",
    "from atmcorr import Atmcorr\n",
    "input_fc = Atmcorr.findInputs(ic)"
   ]
  },
  {
   "cell_type": "markdown",
   "metadata": {},
   "source": [
    "lets take a look.."
   ]
  },
  {
   "cell_type": "code",
   "execution_count": 28,
   "metadata": {
    "collapsed": false
   },
   "outputs": [
    {
     "name": "stdout",
     "output_type": "stream",
     "text": [
      "{'type': 'Feature', 'geometry': {'geodesic': True, 'type': 'Point', 'coordinates': [-157.5141698587372, 21.024068719262132]}, 'id': '20160411T210929_20160411T223342_T04QFJ', 'properties': {'H2O': 2.9399999618530273, 'altitude': {'altitude': 0.0}, 'AOT': 0.18000000715255737, 'O3': 0.281, 'solar_z': 126.95980770219468}}\n"
     ]
    }
   ],
   "source": [
    "print(input_fc.first().getInfo())"
   ]
  },
  {
   "cell_type": "markdown",
   "metadata": {},
   "source": [
    "We need to access this data *locally* (i.e. on the client-side) to run our atmospheric correction code..\n",
    "\n",
    "However, using getInfo() multiple times is not a good batch processing strategy. One solution is to export this information all in one go to a .csv file."
   ]
  },
  {
   "cell_type": "code",
   "execution_count": 35,
   "metadata": {
    "collapsed": false
   },
   "outputs": [],
   "source": [
    "task = Atmcorr.exportInputs(input_fc)\n",
    "task.start()"
   ]
  },
  {
   "cell_type": "markdown",
   "metadata": {},
   "source": [
    "---\n",
    "\n",
    ".. Task Running ...\n",
    "\n",
    "Once complete, download the file from your Google Drive. \n",
    "\n",
    "(**tip**) this repo will ignore anything inside the directory called 'files/', so that is a good place to put data (i.e. without them floating about in repo history)\n",
    "\n",
    "---\n",
    "\n",
    "Here is where I put my atmospheric correction input file.."
   ]
  },
  {
   "cell_type": "code",
   "execution_count": 36,
   "metadata": {
    "collapsed": false
   },
   "outputs": [
    {
     "name": "stdout",
     "output_type": "stream",
     "text": [
      "/home/sam/git/github/gee-atmcorr-S2-batch/files/CSV/atmcorr_inputs.csv\n"
     ]
    }
   ],
   "source": [
    "#A suggested place to download the input file..\n",
    "atmcorr_input_filepath = os.path.join(basepath,'files','CSV','atmcorr_inputs.csv')\n",
    "print(atmcorr_input_filepath)"
   ]
  },
  {
   "cell_type": "markdown",
   "metadata": {},
   "source": [
    "### Option 1: 6S Radiative Transfer Code"
   ]
  },
  {
   "cell_type": "markdown",
   "metadata": {},
   "source": [
    "For a small number of locations (as in this example) we could run the 6S radiative transfer code in a *reasonable* amount of time (i.e. ~ less than 30 secs):"
   ]
  },
  {
   "cell_type": "code",
   "execution_count": 37,
   "metadata": {
    "collapsed": false
   },
   "outputs": [
    {
     "name": "stdout",
     "output_type": "stream",
     "text": [
      "running 6S.. (this may take a while..)\n",
      "time check 15.043583154678345\n",
      "running 6S.. (this may take a while..)\n",
      "time check 8.499802589416504\n",
      "running 6S.. (this may take a while..)\n",
      "time check 8.556232452392578\n",
      "running 6S.. (this may take a while..)\n",
      "time check 8.421323299407959\n"
     ]
    }
   ],
   "source": [
    "# Blue \n",
    "Atmcorr.run6S(atmcorr_input_filepath, predefined_wavelength = 'S2A_MSI_02')\n",
    "\n",
    "# Green \n",
    "Atmcorr.run6S(atmcorr_input_filepath, predefined_wavelength = 'S2A_MSI_03')\n",
    "\n",
    "# Red \n",
    "Atmcorr.run6S(atmcorr_input_filepath, predefined_wavelength = 'S2A_MSI_04')\n",
    "\n",
    "# Near-infrared \n",
    "Atmcorr.run6S(atmcorr_input_filepath, predefined_wavelength = 'S2A_MSI_08')"
   ]
  },
  {
   "cell_type": "markdown",
   "metadata": {},
   "source": [
    "This will update the .csv file. For example:"
   ]
  },
  {
   "cell_type": "code",
   "execution_count": 38,
   "metadata": {
    "collapsed": false
   },
   "outputs": [
    {
     "name": "stdout",
     "output_type": "stream",
     "text": [
      "Index(['AOT', 'H2O', 'O3', 'altitude', 'solar_z', 'geometry',\n",
      "       'S2A_MSI_02_6S_a', 'S2A_MSI_02_6S_b', 'S2A_MSI_03_6S_a',\n",
      "       'S2A_MSI_03_6S_b', 'S2A_MSI_04_6S_a', 'S2A_MSI_04_6S_b',\n",
      "       'S2A_MSI_08_6S_a', 'S2A_MSI_08_6S_b'],\n",
      "      dtype='object')\n"
     ]
    }
   ],
   "source": [
    "import pandas as pd\n",
    "updated_csv = pd.read_csv(atmcorr_input_filepath)\n",
    "print(updated_csv.keys())"
   ]
  },
  {
   "cell_type": "markdown",
   "metadata": {},
   "source": [
    "### Option 2: 6S Emulator"
   ]
  },
  {
   "cell_type": "markdown",
   "metadata": {},
   "source": [
    "Running 6S code can take a **long** time. Here is where the 6S emulator comes in.."
   ]
  },
  {
   "cell_type": "markdown",
   "metadata": {},
   "source": [
    "---\n",
    "Its based on some awesome interpolated lookup tables..\n",
    "\n",
    "Here is where you can [download](https://drive.google.com/open?id=0B9tjEx6g_uGQT1JhZ3hGcENySWc) some for Sentinel 2\n",
    "\n",
    "---"
   ]
  },
  {
   "cell_type": "markdown",
   "metadata": {},
   "source": [
    "While that downloads..\n",
    "\n",
    "(explain directory tree)\n",
    "(and link to how people can build their own iLUTs)"
   ]
  },
  {
   "cell_type": "code",
   "execution_count": 8,
   "metadata": {
    "collapsed": false
   },
   "outputs": [
    {
     "name": "stdout",
     "output_type": "stream",
     "text": [
      "iLUT_relative_path:\n",
      "../iLUTs/S2A_MSI/Continental/view_zenith_0\n"
     ]
    }
   ],
   "source": [
    "# The iLUT files are organized in the following directory tree\n",
    "iLUT_relative_path = os.path.join('iLUTs','S2A_MSI','Continental','view_zenith_0')\n",
    "print('iLUT_relative_path:\\n../'+iLUT_relative_path)"
   ]
  },
  {
   "cell_type": "code",
   "execution_count": 9,
   "metadata": {
    "collapsed": false
   },
   "outputs": [
    {
     "name": "stdout",
     "output_type": "stream",
     "text": [
      "Example iLUT_path:\n",
      "/home/sam/git/github/gee-atmcorr-S2-batch/files/iLUTs/S2A_MSI/Continental/view_zenith_0\n"
     ]
    }
   ],
   "source": [
    "# This is where I placed the files\n",
    "iLUT_path = os.path.join(basepath,'files',iLUT_relative_path)\n",
    "print('Example iLUT_path:\\n'+iLUT_path)"
   ]
  },
  {
   "cell_type": "code",
   "execution_count": 30,
   "metadata": {
    "collapsed": false
   },
   "outputs": [],
   "source": [
    "import atmcorr\n",
    "import importlib\n",
    "importlib.reload(atmcorr)\n",
    "run6SE = atmcorr.Atmcorr.run6SE\n",
    "\n",
    "for bandnum in ['02','03','04','08']:\n",
    "    ilut_name = 'S2A_MSI_'+bandnum+'.ilut'\n",
    "    iLUT_filepath = os.path.join(iLUT_path,ilut_name)\n",
    "    run6SE(atmcorr_input_filepath, iLUT_filepath)"
   ]
  },
  {
   "cell_type": "markdown",
   "metadata": {},
   "source": [
    "Upload to fusion table"
   ]
  },
  {
   "cell_type": "markdown",
   "metadata": {},
   "source": [
    "Use in GEE"
   ]
  },
  {
   "cell_type": "markdown",
   "metadata": {},
   "source": [
    "own target sites"
   ]
  },
  {
   "cell_type": "code",
   "execution_count": null,
   "metadata": {
    "collapsed": true
   },
   "outputs": [],
   "source": [
    "#target_locations = fc\n",
    "#assetIDs = Testsites().get(target_locations)"
   ]
  },
  {
   "cell_type": "markdown",
   "metadata": {},
   "source": [
    "then same as before.."
   ]
  },
  {
   "cell_type": "code",
   "execution_count": null,
   "metadata": {
    "collapsed": true
   },
   "outputs": [],
   "source": [
    "#assetIDs_with_inputs = Atmcorr.findInputs(assetIDs)\n",
    "#task = Atmcorr.exportInputs(assetIDs_with_inputs).start()\n",
    "#Atmcorr.run6S('newsites.csv', predefined = 'S2A_MSI_02')"
   ]
  }
 ],
 "metadata": {
  "anaconda-cloud": {},
  "kernelspec": {
   "display_name": "Python [conda root]",
   "language": "python",
   "name": "conda-root-py"
  },
  "language_info": {
   "codemirror_mode": {
    "name": "ipython",
    "version": 3
   },
   "file_extension": ".py",
   "mimetype": "text/x-python",
   "name": "python",
   "nbconvert_exporter": "python",
   "pygments_lexer": "ipython3",
   "version": "3.5.2"
  }
 },
 "nbformat": 4,
 "nbformat_minor": 2
}
