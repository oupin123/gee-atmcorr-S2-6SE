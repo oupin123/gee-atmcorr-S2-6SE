{
 "cells": [
  {
   "cell_type": "code",
   "execution_count": null,
   "metadata": {
    "collapsed": true
   },
   "outputs": [],
   "source": [
    "import ee\n",
    "ee.Initialize()"
   ]
  },
  {
   "cell_type": "code",
   "execution_count": null,
   "metadata": {
    "collapsed": false
   },
   "outputs": [],
   "source": [
    "import os\n",
    "import sys\n",
    "sys.path.append(os.path.join(os.path.dirname(os.getcwd()),'bin'))\n",
    "from sixs_emulator_ee_sentinel2_batch import SixS_emulator\n",
    "from atmcorr_input import Atmcorr_input\n",
    "from atmospheric_correction import atmospheric_correction\n",
    "from radiance import radiance_from_TOA\n",
    "from interpolated_LUTs import Interpolated_LUTs"
   ]
  },
  {
   "cell_type": "code",
   "execution_count": null,
   "metadata": {
    "collapsed": true
   },
   "outputs": [],
   "source": [
    "# a place and a mission\n",
    "geom = ee.Geometry.Point(-157.816222, 21.297481)\n",
    "mission = 'COPERNICUS/S2'  "
   ]
  },
  {
   "cell_type": "code",
   "execution_count": null,
   "metadata": {
    "collapsed": true
   },
   "outputs": [],
   "source": [
    "# 6S emulator\n",
    "se = SixS_emulator(mission)"
   ]
  },
  {
   "cell_type": "code",
   "execution_count": null,
   "metadata": {
    "collapsed": true
   },
   "outputs": [],
   "source": [
    "# image collection\n",
    "ic = ee.ImageCollection(mission)\\\n",
    "    .filterBounds(geom)\\\n",
    "    .filterDate('2017-01-01','2017-02-01')\\\n",
    "    .filter(ee.Filter.lt('MEAN_SOLAR_ZENITH_ANGLE',75))"
   ]
  },
  {
   "cell_type": "code",
   "execution_count": null,
   "metadata": {
    "collapsed": false
   },
   "outputs": [],
   "source": [
    "# iLUTs instance\n",
    "iLUTs = Interpolated_LUTs('COPERNICUS/S2') # i.e. Sentinel2 "
   ]
  },
  {
   "cell_type": "code",
   "execution_count": null,
   "metadata": {
    "collapsed": false
   },
   "outputs": [],
   "source": [
    "# if this is first time you might have to download the look up tables\n",
    "iLUTs.download_LUTs()"
   ]
  },
  {
   "cell_type": "code",
   "execution_count": null,
   "metadata": {
    "collapsed": false
   },
   "outputs": [],
   "source": [
    "# and run the interpolation\n",
    "iLUTs.interpolate_LUTs()"
   ]
  },
  {
   "cell_type": "markdown",
   "metadata": {},
   "source": [
    "If you are running this notebook in a docker container then you can save these interpolated look-up tables (and your Earth Engine authentication) for later using a [docker commit](https://github.com/samsammurphy/gee-atmcorr-S2-6SE/wiki/docker-commits). This will save them to memory so that you only have to do the set-up once."
   ]
  },
  {
   "cell_type": "code",
   "execution_count": null,
   "metadata": {
    "collapsed": false
   },
   "outputs": [],
   "source": [
    "# otherwise, you can just load iLUTs from file\n",
    "se.iLUTs = iLUTs.get()"
   ]
  },
  {
   "cell_type": "code",
   "execution_count": null,
   "metadata": {
    "collapsed": false
   },
   "outputs": [],
   "source": [
    "# extract atmcorr inputs as feature collection\n",
    "Atmcorr_input.geom = geom  # specify target location (would use image centroid otherwise)\n",
    "atmcorr_inputs = ic.map(Atmcorr_input.extractor).getInfo()\n",
    "features = atmcorr_inputs['features']"
   ]
  },
  {
   "cell_type": "code",
   "execution_count": null,
   "metadata": {
    "collapsed": false
   },
   "outputs": [],
   "source": [
    "# atmospherically correct image collection\n",
    "\n",
    "ic_atmospherically_corrected = []\n",
    "\n",
    "for feature in features:\n",
    "\n",
    "    # at-sensor radiance \n",
    "    toa = ee.Image(mission+'/'+feature['properties']['imgID'])\n",
    "    rad = radiance_from_TOA(toa, feature)\n",
    "\n",
    "    # 6S emulator\n",
    "    cc = se.run(feature['properties']['atmcorr_inputs'])\n",
    "\n",
    "    # atmospheric correction\n",
    "    SR = atmospheric_correction(rad, cc)\n",
    "    ic_atmospherically_corrected.append(SR)"
   ]
  },
  {
   "cell_type": "code",
   "execution_count": null,
   "metadata": {
    "collapsed": true
   },
   "outputs": [],
   "source": [
    "# Earth Engine image collection\n",
    "ic_atmospherically_corrected = ee.ImageCollection(ic_atmospherically_corrected)"
   ]
  },
  {
   "cell_type": "code",
   "execution_count": null,
   "metadata": {
    "collapsed": false
   },
   "outputs": [],
   "source": [
    "# test\n",
    "SR = ee.Image(ic_atmospherically_corrected.first())\n",
    "print(SR.reduceRegion(ee.Reducer.mean(),geom).getInfo())"
   ]
  },
  {
   "cell_type": "code",
   "execution_count": null,
   "metadata": {
    "collapsed": false
   },
   "outputs": [],
   "source": [
    "# original image (top of atmosphere)\n",
    "TOA = ee.Image(ic.first()).divide(10000)\n",
    "\n",
    "# surface reflectance (bottom of atmosphere)\n",
    "SR = ee.Image(ic_atmospherically_corrected.first())\n",
    "\n",
    "from IPython.display import display, Image\n",
    "\n",
    "region = geom.buffer(5000).bounds().getInfo()['coordinates']\n",
    "\n",
    "before = Image(url=TOA.select(['B4','B3','B2']).getThumbUrl({\n",
    "                'region':region,\n",
    "                'min':0,\n",
    "                'max':0.25,\n",
    "                'gamma':1.5\n",
    "                }))\n",
    "\n",
    "after = Image(url=SR.select(['B4','B3','B2']).getThumbUrl({\n",
    "                'region':region,\n",
    "                'min':0,\n",
    "                'max':0.25,\n",
    "                'gamma':1.5\n",
    "                }))\n",
    "\n",
    "display(before, after)"
   ]
  }
 ],
 "metadata": {
  "anaconda-cloud": {},
  "kernelspec": {
   "display_name": "Python 3",
   "language": "python",
   "name": "python3"
  },
  "language_info": {
   "codemirror_mode": {
    "name": "ipython",
    "version": 3
   },
   "file_extension": ".py",
   "mimetype": "text/x-python",
   "name": "python",
   "nbconvert_exporter": "python",
   "pygments_lexer": "ipython3",
   "version": "3.6.0"
  }
 },
 "nbformat": 4,
 "nbformat_minor": 1
}
