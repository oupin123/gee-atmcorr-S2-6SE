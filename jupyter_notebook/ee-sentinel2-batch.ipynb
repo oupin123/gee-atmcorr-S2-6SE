{
 "cells": [
  {
   "cell_type": "code",
   "execution_count": 16,
   "metadata": {
    "collapsed": true
   },
   "outputs": [],
   "source": [
    "import ee\n",
    "ee.Initialize()"
   ]
  },
  {
   "cell_type": "code",
   "execution_count": 27,
   "metadata": {
    "collapsed": true
   },
   "outputs": [],
   "source": [
    "import sys\n",
    "sys.path.append(os.path.join(os.getcwd(),'bin'))\n",
    "from sixs_emulator_ee_sentinel2_batch import SixS_emulator\n",
    "from atmcorr_input import Atmcorr_input\n",
    "from atmospheric_correction import atmospheric_correction\n",
    "from radiance import radiance_from_TOA\n",
    "from interpolated_LUTs import Interpolated_LUTs"
   ]
  },
  {
   "cell_type": "code",
   "execution_count": 18,
   "metadata": {
    "collapsed": true
   },
   "outputs": [],
   "source": [
    "# a place and a mission\n",
    "geom = ee.Geometry.Point(-157.816222, 21.297481)\n",
    "mission = 'COPERNICUS/S2'  "
   ]
  },
  {
   "cell_type": "code",
   "execution_count": 19,
   "metadata": {
    "collapsed": true
   },
   "outputs": [],
   "source": [
    "# image collection\n",
    "ic = ee.ImageCollection(mission)\\\n",
    "    .filterBounds(geom)\\\n",
    "    .filterDate('2017-01-01','2017-02-01')\\\n",
    "    .filter(ee.Filter.lt('MEAN_SOLAR_ZENITH_ANGLE',75))"
   ]
  },
  {
   "cell_type": "code",
   "execution_count": 28,
   "metadata": {
    "collapsed": true
   },
   "outputs": [],
   "source": [
    "# 6S emulator\n",
    "se = SixS_emulator(mission)"
   ]
  },
  {
   "cell_type": "code",
   "execution_count": 29,
   "metadata": {
    "collapsed": true
   },
   "outputs": [],
   "source": [
    "# interpolate look up tables \n",
    "iLUTs = Interpolated_LUTs('COPERNICUS/S2')"
   ]
  },
  {
   "cell_type": "code",
   "execution_count": 30,
   "metadata": {
    "collapsed": false
   },
   "outputs": [
    {
     "name": "stdout",
     "output_type": "stream",
     "text": [
      "Downloading look up table (LUT) zip file..\n",
      "Extracting zip file..\n",
      "Done: LUT files available locally\n",
      "running n-dimensional interpolation may take a few minutes...\n",
      "iLUT file already exists (skipping interpolation): S2A_MSI_01.lut\n",
      "iLUT file already exists (skipping interpolation): S2A_MSI_02.lut\n",
      "iLUT file already exists (skipping interpolation): S2A_MSI_03.lut\n",
      "iLUT file already exists (skipping interpolation): S2A_MSI_04.lut\n",
      "iLUT file already exists (skipping interpolation): S2A_MSI_05.lut\n",
      "iLUT file already exists (skipping interpolation): S2A_MSI_06.lut\n",
      "iLUT file already exists (skipping interpolation): S2A_MSI_07.lut\n",
      "iLUT file already exists (skipping interpolation): S2A_MSI_08.lut\n",
      "iLUT file already exists (skipping interpolation): S2A_MSI_09.lut\n",
      "iLUT file already exists (skipping interpolation): S2A_MSI_10.lut\n",
      "iLUT file already exists (skipping interpolation): S2A_MSI_11.lut\n",
      "iLUT file already exists (skipping interpolation): S2A_MSI_12.lut\n",
      "iLUT file already exists (skipping interpolation): S2A_MSI_13.lut\n"
     ]
    }
   ],
   "source": [
    "# if this is first time will have to download and interpolate\n",
    "iLUTs.download_LUTs()\n",
    "iLUTs.interpolate_LUTs()"
   ]
  },
  {
   "cell_type": "code",
   "execution_count": 31,
   "metadata": {
    "collapsed": true
   },
   "outputs": [],
   "source": [
    "# otherwise can just load into the emulator from local files\n",
    "se.iLUTs = iLUTs.get()"
   ]
  },
  {
   "cell_type": "code",
   "execution_count": 32,
   "metadata": {
    "collapsed": false
   },
   "outputs": [],
   "source": [
    "# extract atmcorr inputs as feature collection\n",
    "# Atmcorr_input.geom = geom  # specify target location (would use image centroid otherwise)\n",
    "atmcorr_inputs = ic.map(Atmcorr_input.extractor).getInfo()\n",
    "features = atmcorr_inputs['features']"
   ]
  },
  {
   "cell_type": "code",
   "execution_count": 33,
   "metadata": {
    "collapsed": false
   },
   "outputs": [],
   "source": [
    "# atmospherically correct image collection\n",
    "\n",
    "ic_atmospherically_corrected = []\n",
    "\n",
    "for feature in features:\n",
    "\n",
    "    # at-sensor radiance \n",
    "    toa = ee.Image(mission+'/'+feature['properties']['imgID'])\n",
    "    rad = radiance_from_TOA(toa, feature)\n",
    "\n",
    "    # 6S emulator\n",
    "    cc = se.run(feature['properties']['atmcorr_inputs'])\n",
    "\n",
    "    # atmospheric correction\n",
    "    SR = atmospheric_correction(rad, cc)\n",
    "    ic_atmospherically_corrected.append(SR)"
   ]
  },
  {
   "cell_type": "code",
   "execution_count": 34,
   "metadata": {
    "collapsed": true
   },
   "outputs": [],
   "source": [
    "# Earth Engine image collection\n",
    "ic_atmospherically_corrected = ee.ImageCollection(ic_atmospherically_corrected)"
   ]
  },
  {
   "cell_type": "code",
   "execution_count": 35,
   "metadata": {
    "collapsed": false
   },
   "outputs": [
    {
     "name": "stdout",
     "output_type": "stream",
     "text": [
      "{'B8': 0.3079101947591835, 'B12': 0.187208378759739, 'B6': 0.30273065960250845, 'B5': 0.267519227838868, 'B3': 0.23786308414737306, 'B8A': 0.29977697553848054, 'B2': 0.21544715254774705, 'B10': 0.4969368640425421, 'B9': 0.4176718790944925, 'B7': 0.302642586072869, 'B1': 0.13939643278561717, 'B4': 0.26133856162825925, 'B11': 0.2493073375084754}\n"
     ]
    }
   ],
   "source": [
    "# test\n",
    "SR = ee.Image(ic_atmospherically_corrected.first())\n",
    "print(SR.reduceRegion(ee.Reducer.mean(),geom).getInfo())"
   ]
  },
  {
   "cell_type": "code",
   "execution_count": 36,
   "metadata": {
    "collapsed": false
   },
   "outputs": [
    {
     "data": {
      "text/html": [
       "<img src=\"https://earthengine.googleapis.com/api/thumb?thumbid=cea73ecc3b71b843f1726a63256b6465&token=9b7b25fc20d6553ec2e8d420a1f16d3d\"/>"
      ],
      "text/plain": [
       "<IPython.core.display.Image object>"
      ]
     },
     "metadata": {},
     "output_type": "display_data"
    }
   ],
   "source": [
    "SR = ee.Image(ic_atmospherically_corrected.first())\n",
    "\n",
    "from IPython.display import display, Image\n",
    "region = geom.buffer(5000).bounds().getInfo()['coordinates']\n",
    "image = Image(url=SR.select(['B4','B3','B2']).getThumbUrl({\n",
    "                'region':region,\n",
    "                'min':0,\n",
    "                'max':0.3\n",
    "                }))\n",
    "display(image)"
   ]
  },
  {
   "cell_type": "code",
   "execution_count": null,
   "metadata": {
    "collapsed": true
   },
   "outputs": [],
   "source": []
  }
 ],
 "metadata": {
  "anaconda-cloud": {},
  "kernelspec": {
   "display_name": "Python [conda root]",
   "language": "python",
   "name": "conda-root-py"
  },
  "language_info": {
   "codemirror_mode": {
    "name": "ipython",
    "version": 3
   },
   "file_extension": ".py",
   "mimetype": "text/x-python",
   "name": "python",
   "nbconvert_exporter": "python",
   "pygments_lexer": "ipython3",
   "version": "3.5.3"
  }
 },
 "nbformat": 4,
 "nbformat_minor": 1
}
