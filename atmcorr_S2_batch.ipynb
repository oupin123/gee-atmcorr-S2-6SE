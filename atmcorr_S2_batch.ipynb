{
 "cells": [
  {
   "cell_type": "markdown",
   "metadata": {},
   "source": [
    "# Sentinel 2 Atmospheric Correction in Google Earth Engine"
   ]
  },
  {
   "cell_type": "markdown",
   "metadata": {},
   "source": [
    "### Initialize"
   ]
  },
  {
   "cell_type": "code",
   "execution_count": 1,
   "metadata": {
    "collapsed": false
   },
   "outputs": [],
   "source": [
    "import os, sys\n",
    "sys.path.append(os.path.join(os.getcwd(),'bin'))\n",
    "from atmospheric import Atmospheric\n",
    "from testsites import Testsites\n",
    "\n",
    "import ee\n",
    "ee.Initialize()"
   ]
  },
  {
   "cell_type": "code",
   "execution_count": 2,
   "metadata": {
    "collapsed": false
   },
   "outputs": [
    {
     "name": "stdout",
     "output_type": "stream",
     "text": [
      "{'features': [{'geometry': {'coordinates': [-10.811, 35.353], 'type': 'Point', 'geodesic': True}, 'id': '0', 'properties': {'landcover_type': 'water', 'assetID': 'COPERNICUS/S2/20170115T112411_20170115T112412_T29SLV', 'valid': 1, 'cloud_cover': 0.0, 'date': {'value': 1484479452457, 'type': 'Date'}}, 'type': 'Feature'}, {'geometry': {'coordinates': [14.2575, 60.0484], 'type': 'Point', 'geodesic': True}, 'id': '1', 'properties': {'landcover_type': 'evergreen_needleleaf_forest', 'assetID': 'COPERNICUS/S2/20160116T104056_20160116T162307_T33VVG', 'valid': 1, 'cloud_cover': 0.0, 'date': {'value': 1452940856570, 'type': 'Date'}}, 'type': 'Feature'}, {'geometry': {'coordinates': [-71.917, -10.92], 'type': 'Point', 'geodesic': True}, 'id': '2', 'properties': {'landcover_type': 'evergreen_broadleaf_forest', 'assetID': 'COPERNICUS/S2/20170128T150711_20170128T151151_T18LZN', 'valid': 1, 'cloud_cover': 9.1316, 'date': {'value': 1485616311262, 'type': 'Date'}}, 'type': 'Feature'}, {'geometry': {'coordinates': [127.3975, 60.9518], 'type': 'Point', 'geodesic': True}, 'id': '3', 'properties': {'landcover_type': 'deciduous_needleleaf_forest', 'assetID': 'COPERNICUS/S2/20170204T025911_20170204T025914_T52VDN', 'valid': 1, 'cloud_cover': 3.9534, 'date': {'value': 1486177154459, 'type': 'Date'}}, 'type': 'Feature'}, {'geometry': {'coordinates': [-62.0673, -24.9462], 'type': 'Point', 'geodesic': True}, 'id': '4', 'properties': {'landcover_type': 'deciduous_broadleaf_forest', 'assetID': 'COPERNICUS/S2/20170130T141041_20170130T141756_T20JNT', 'valid': 1, 'cloud_cover': 0.0, 'date': {'value': 1485785876004, 'type': 'Date'}}, 'type': 'Feature'}, {'geometry': {'coordinates': [135.7031, 46.6306], 'type': 'Point', 'geodesic': True}, 'id': '5', 'properties': {'landcover_type': 'mixed_forest', 'assetID': 'COPERNICUS/S2/20170107T020041_20170107T020225_T53TNM', 'valid': 1, 'cloud_cover': 4.3874, 'date': {'value': 1483754545083, 'type': 'Date'}}, 'type': 'Feature'}, {'geometry': {'coordinates': [40.4153, 4.3889], 'type': 'Point', 'geodesic': True}, 'id': '6', 'properties': {'landcover_type': 'closed_shrubland', 'assetID': 'COPERNICUS/S2/20160102T075903_20160106T181727_T37NFE', 'valid': 1, 'cloud_cover': 2.0, 'date': {'value': 1451721543377, 'type': 'Date'}}, 'type': 'Feature'}, {'geometry': {'coordinates': [129.672, -23.695], 'type': 'Point', 'geodesic': True}, 'id': '7', 'properties': {'landcover_type': 'open_shrubland', 'assetID': 'COPERNICUS/S2/20160217T013207_20160217T082603_T52KEU', 'valid': 1, 'cloud_cover': 0.2476, 'date': {'value': 1455672727456, 'type': 'Date'}}, 'type': 'Feature'}, {'geometry': {'coordinates': [25.4855, -13.1437], 'type': 'Point', 'geodesic': True}, 'id': '8', 'properties': {'assetID': 'None', 'valid': 0, 'landcover_type': 'woody_savanna'}, 'type': 'Feature'}, {'geometry': {'coordinates': [27.235, 8.429], 'type': 'Point', 'geodesic': True}, 'id': '9', 'properties': {'landcover_type': 'savanna', 'assetID': 'COPERNICUS/S2/20160120T085341_20160120T141900_T35PNK', 'valid': 1, 'cloud_cover': 7.0, 'date': {'value': 1453280021352, 'type': 'Date'}}, 'type': 'Feature'}, {'geometry': {'coordinates': [-105.59, 44.056], 'type': 'Point', 'geodesic': True}, 'id': '10', 'properties': {'landcover_type': 'grassland', 'assetID': 'COPERNICUS/S2/20170204T180521_20170204T181004_T13TDJ', 'valid': 1, 'cloud_cover': 0.0078, 'date': {'value': 1486231804865, 'type': 'Date'}}, 'type': 'Feature'}, {'geometry': {'coordinates': [-85.4084, 53.3596], 'type': 'Point', 'geodesic': True}, 'id': '11', 'properties': {'landcover_type': 'permanent_wetland', 'assetID': 'COPERNICUS/S2/20170315T165301_20170315T165625_T16UEE', 'valid': 1, 'cloud_cover': 0.0577, 'date': {'value': 1489596985496, 'type': 'Date'}}, 'type': 'Feature'}, {'geometry': {'coordinates': [75.4239, 30.5623], 'type': 'Point', 'geodesic': True}, 'id': '12', 'properties': {'landcover_type': 'cropland', 'assetID': 'COPERNICUS/S2/20160218T055006_20160409T032300_T43REP', 'valid': 1, 'cloud_cover': 5.4308, 'date': {'value': 1455774606464, 'type': 'Date'}}, 'type': 'Feature'}, {'geometry': {'coordinates': [-99.1393, 19.4407], 'type': 'Point', 'geodesic': True}, 'id': '13', 'properties': {'landcover_type': 'urban', 'assetID': 'COPERNICUS/S2/20170107T170701_20170107T170831_T14QMG', 'valid': 1, 'cloud_cover': 5.7718, 'date': {'value': 1483808911265, 'type': 'Date'}}, 'type': 'Feature'}, {'geometry': {'coordinates': [102.4915, 14.7589], 'type': 'Point', 'geodesic': True}, 'id': '14', 'properties': {'landcover_type': 'cropland_and_natural_vegetation_mosaic', 'assetID': 'COPERNICUS/S2/20160130T033742_20160130T101032_T47PRS', 'valid': 1, 'cloud_cover': 0.0, 'date': {'value': 1454125062255, 'type': 'Date'}}, 'type': 'Feature'}, {'geometry': {'coordinates': [-43.86, 67.27], 'type': 'Point', 'geodesic': True}, 'id': '15', 'properties': {'assetID': 'None', 'valid': 0, 'landcover_type': 'snow_and_ice'}, 'type': 'Feature'}, {'geometry': {'coordinates': [21.094, 25.602], 'type': 'Point', 'geodesic': True}, 'id': '16', 'properties': {'landcover_type': 'barren_or_sparsely_vegetated', 'assetID': 'COPERNICUS/S2/20160102T093247_20160102T125045_T34RDP', 'valid': 1, 'cloud_cover': 0.0, 'date': {'value': 1451727167695, 'type': 'Date'}}, 'type': 'Feature'}], 'type': 'FeatureCollection', 'columns': {}}\n"
     ]
    }
   ],
   "source": [
    "# instantiate Testsites\n",
    "testsites = Testsites()\n",
    "\n",
    "# set attributes\n",
    "quarter = 'Q2' # i.e. quarter of year (optional)\n",
    "testsites.maxCloudCover = 10\n",
    "testsites.monthRange = testsites.quarter_to_monthRange(quarter)\n",
    "\n",
    "# find assets\n",
    "fc = testsites.sites.map(testsites.assetFinder)\n",
    "\n",
    "# check\n",
    "print(fc.getInfo())"
   ]
  },
  {
   "cell_type": "code",
   "execution_count": null,
   "metadata": {
    "collapsed": true
   },
   "outputs": [],
   "source": []
  }
 ],
 "metadata": {
  "anaconda-cloud": {},
  "kernelspec": {
   "display_name": "Python [conda root]",
   "language": "python",
   "name": "conda-root-py"
  },
  "language_info": {
   "codemirror_mode": {
    "name": "ipython",
    "version": 3
   },
   "file_extension": ".py",
   "mimetype": "text/x-python",
   "name": "python",
   "nbconvert_exporter": "python",
   "pygments_lexer": "ipython3",
   "version": "3.5.2"
  }
 },
 "nbformat": 4,
 "nbformat_minor": 2
}
