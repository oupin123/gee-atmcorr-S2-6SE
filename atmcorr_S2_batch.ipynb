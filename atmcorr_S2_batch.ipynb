{
 "cells": [
  {
   "cell_type": "markdown",
   "metadata": {},
   "source": [
    "# Sentinel 2 Atmospheric Correction in Google Earth Engine"
   ]
  },
  {
   "cell_type": "markdown",
   "metadata": {},
   "source": [
    "The Sentinel 2 mission of the European Space Agency (ESA) is a twin satellite configuration with 10 to 60 m spatial resolution and a 5 day observational frequency at the equator. \n",
    "\n",
    "= a wealth of planetary scale information."
   ]
  },
  {
   "cell_type": "markdown",
   "metadata": {},
   "source": [
    "However, atmospheric correction requires use of (a desktop toolbox?). That is, ESA do not provide a corrected product but the tools to do so. This approach is a barrier to entry for GEE at present. Here is a solution for Sentinel 2 (that could also work with any satellite, e.g. your own cubesat!)"
   ]
  },
  {
   "cell_type": "markdown",
   "metadata": {},
   "source": [
    "### Start Earth Engine"
   ]
  },
  {
   "cell_type": "code",
   "execution_count": 2,
   "metadata": {
    "collapsed": false
   },
   "outputs": [],
   "source": [
    "import os, sys\n",
    "sys.path.append(os.path.join(os.getcwd(),'bin'))\n",
    "import ee\n",
    "ee.Initialize()"
   ]
  },
  {
   "cell_type": "markdown",
   "metadata": {},
   "source": [
    "This solution uses a feature collection with assetIDs as input. This feature collection will be updated along the way.. here is an example of [test sites](https://code.earthengine.google.com/a2dc973ddff3556cdfc39c8d2506a188) of landcover types in the IGBP."
   ]
  },
  {
   "cell_type": "code",
   "execution_count": 3,
   "metadata": {
    "collapsed": false
   },
   "outputs": [],
   "source": [
    "from testsites import Testsites\n",
    "fc = Testsites().get()"
   ]
  },
  {
   "cell_type": "markdown",
   "metadata": {
    "collapsed": true
   },
   "source": [
    "Each testsite has a geometry, date and assetID..\n",
    "\n",
    "Testsites (rename?) allows you to find your own sites.. (will show how later on)"
   ]
  },
  {
   "cell_type": "markdown",
   "metadata": {},
   "source": [
    "Atmospheric correction requries some input variables (e.g. atmospheric H20, O3, AOT, etc.).. we can find them like this.."
   ]
  },
  {
   "cell_type": "code",
   "execution_count": 11,
   "metadata": {
    "collapsed": false
   },
   "outputs": [],
   "source": [
    "#from atmcorr import Atmcorr\n",
    "#fc_with_inputs = Atmcorr.findInputs(fc)"
   ]
  },
  {
   "cell_type": "markdown",
   "metadata": {},
   "source": [
    "As we could have a large number of images to atmospherically correct.. calling getInfo()is not the way to go.. (would take waaay to long and might even break something)\n",
    "\n",
    "A solution is to export all these results once to a single csv file and then to work with that file.."
   ]
  },
  {
   "cell_type": "code",
   "execution_count": 13,
   "metadata": {
    "collapsed": false
   },
   "outputs": [],
   "source": [
    "#task = Atmcorr.exportInputs(fc_with_inputs)\n",
    "#task.start()"
   ]
  },
  {
   "cell_type": "markdown",
   "metadata": {},
   "source": [
    "download csv file locally\n",
    "\n",
    "(there is an example here already.. so the following should work)"
   ]
  },
  {
   "cell_type": "markdown",
   "metadata": {},
   "source": [
    "Calculate the atmospheric correction coefficients.. For example Sentinel 2, channel 2 (i.e. blue band)"
   ]
  },
  {
   "cell_type": "code",
   "execution_count": 14,
   "metadata": {
    "collapsed": true
   },
   "outputs": [],
   "source": [
    "# Atmcorr.run6S('testsites.csv', predefined = 'S2A_MSI_02')"
   ]
  },
  {
   "cell_type": "markdown",
   "metadata": {},
   "source": [
    "Upload to fusion table"
   ]
  },
  {
   "cell_type": "markdown",
   "metadata": {},
   "source": [
    "Use in GEE"
   ]
  },
  {
   "cell_type": "markdown",
   "metadata": {},
   "source": [
    "own target sites"
   ]
  }
 ],
 "metadata": {
  "anaconda-cloud": {},
  "kernelspec": {
   "display_name": "Python [conda root]",
   "language": "python",
   "name": "conda-root-py"
  },
  "language_info": {
   "codemirror_mode": {
    "name": "ipython",
    "version": 3
   },
   "file_extension": ".py",
   "mimetype": "text/x-python",
   "name": "python",
   "nbconvert_exporter": "python",
   "pygments_lexer": "ipython3",
   "version": "3.5.2"
  }
 },
 "nbformat": 4,
 "nbformat_minor": 2
}
