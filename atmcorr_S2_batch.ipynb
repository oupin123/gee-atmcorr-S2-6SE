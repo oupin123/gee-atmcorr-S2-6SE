{
 "cells": [
  {
   "cell_type": "markdown",
   "metadata": {},
   "source": [
    "# Sentinel 2 Atmospheric Correction in Google Earth Engine"
   ]
  },
  {
   "cell_type": "markdown",
   "metadata": {},
   "source": [
    "### Initialize"
   ]
  },
  {
   "cell_type": "code",
   "execution_count": 1,
   "metadata": {
    "collapsed": false
   },
   "outputs": [],
   "source": [
    "import os, sys\n",
    "sys.path.append(os.path.join(os.getcwd(),'bin'))\n",
    "from atmospheric import Atmospheric\n",
    "from testsites import Testsites\n",
    "\n",
    "import ee\n",
    "ee.Initialize()"
   ]
  },
  {
   "cell_type": "code",
   "execution_count": 2,
   "metadata": {
    "collapsed": false
   },
   "outputs": [
    {
     "name": "stdout",
     "output_type": "stream",
     "text": [
      "{'type': 'FeatureCollection', 'features': [{'type': 'Feature', 'geometry': {'type': 'Point', 'geodesic': True, 'coordinates': [-10.811, 35.353]}, 'id': '0', 'properties': {'date': {'type': 'Date', 'value': 1484479452457}, 'cloud_cover': 0.0, 'valid': 1, 'landcover_type': 'water', 'assetID': 'COPERNICUS/S2/20170115T112411_20170115T112412_T29SLV'}}, {'type': 'Feature', 'geometry': {'type': 'Point', 'geodesic': True, 'coordinates': [14.2575, 60.0484]}, 'id': '1', 'properties': {'date': {'type': 'Date', 'value': 1452940856570}, 'cloud_cover': 0.0, 'valid': 1, 'landcover_type': 'evergreen_needleleaf_forest', 'assetID': 'COPERNICUS/S2/20160116T104056_20160116T162307_T33VVG'}}, {'type': 'Feature', 'geometry': {'type': 'Point', 'geodesic': True, 'coordinates': [-71.917, -10.92]}, 'id': '2', 'properties': {'date': {'type': 'Date', 'value': 1485616311262}, 'cloud_cover': 9.1316, 'valid': 1, 'landcover_type': 'evergreen_broadleaf_forest', 'assetID': 'COPERNICUS/S2/20170128T150711_20170128T151151_T18LZN'}}, {'type': 'Feature', 'geometry': {'type': 'Point', 'geodesic': True, 'coordinates': [127.3975, 60.9518]}, 'id': '3', 'properties': {'date': {'type': 'Date', 'value': 1486177154459}, 'cloud_cover': 3.9534, 'valid': 1, 'landcover_type': 'deciduous_needleleaf_forest', 'assetID': 'COPERNICUS/S2/20170204T025911_20170204T025914_T52VDN'}}, {'type': 'Feature', 'geometry': {'type': 'Point', 'geodesic': True, 'coordinates': [-62.0673, -24.9462]}, 'id': '4', 'properties': {'date': {'type': 'Date', 'value': 1485785876004}, 'cloud_cover': 0.0, 'valid': 1, 'landcover_type': 'deciduous_broadleaf_forest', 'assetID': 'COPERNICUS/S2/20170130T141041_20170130T141756_T20JNT'}}, {'type': 'Feature', 'geometry': {'type': 'Point', 'geodesic': True, 'coordinates': [135.7031, 46.6306]}, 'id': '5', 'properties': {'date': {'type': 'Date', 'value': 1483754545083}, 'cloud_cover': 4.3874, 'valid': 1, 'landcover_type': 'mixed_forest', 'assetID': 'COPERNICUS/S2/20170107T020041_20170107T020225_T53TNM'}}, {'type': 'Feature', 'geometry': {'type': 'Point', 'geodesic': True, 'coordinates': [40.4153, 4.3889]}, 'id': '6', 'properties': {'date': {'type': 'Date', 'value': 1451721543377}, 'cloud_cover': 2.0, 'valid': 1, 'landcover_type': 'closed_shrubland', 'assetID': 'COPERNICUS/S2/20160102T075903_20160106T181727_T37NFE'}}, {'type': 'Feature', 'geometry': {'type': 'Point', 'geodesic': True, 'coordinates': [129.672, -23.695]}, 'id': '7', 'properties': {'date': {'type': 'Date', 'value': 1455672727456}, 'cloud_cover': 0.2476, 'valid': 1, 'landcover_type': 'open_shrubland', 'assetID': 'COPERNICUS/S2/20160217T013207_20160217T082603_T52KEU'}}, {'type': 'Feature', 'geometry': {'type': 'Point', 'geodesic': True, 'coordinates': [25.4855, -13.1437]}, 'id': '8', 'properties': {'landcover_type': 'woody_savanna', 'valid': 0, 'assetID': 'None'}}, {'type': 'Feature', 'geometry': {'type': 'Point', 'geodesic': True, 'coordinates': [27.235, 8.429]}, 'id': '9', 'properties': {'date': {'type': 'Date', 'value': 1453280021352}, 'cloud_cover': 7.0, 'valid': 1, 'landcover_type': 'savanna', 'assetID': 'COPERNICUS/S2/20160120T085341_20160120T141900_T35PNK'}}, {'type': 'Feature', 'geometry': {'type': 'Point', 'geodesic': True, 'coordinates': [-105.59, 44.056]}, 'id': '10', 'properties': {'date': {'type': 'Date', 'value': 1486231804865}, 'cloud_cover': 0.0078, 'valid': 1, 'landcover_type': 'grassland', 'assetID': 'COPERNICUS/S2/20170204T180521_20170204T181004_T13TDJ'}}, {'type': 'Feature', 'geometry': {'type': 'Point', 'geodesic': True, 'coordinates': [-85.4084, 53.3596]}, 'id': '11', 'properties': {'date': {'type': 'Date', 'value': 1489596985496}, 'cloud_cover': 0.0577, 'valid': 1, 'landcover_type': 'permanent_wetland', 'assetID': 'COPERNICUS/S2/20170315T165301_20170315T165625_T16UEE'}}, {'type': 'Feature', 'geometry': {'type': 'Point', 'geodesic': True, 'coordinates': [75.4239, 30.5623]}, 'id': '12', 'properties': {'date': {'type': 'Date', 'value': 1455774606464}, 'cloud_cover': 5.4308, 'valid': 1, 'landcover_type': 'cropland', 'assetID': 'COPERNICUS/S2/20160218T055006_20160409T032300_T43REP'}}, {'type': 'Feature', 'geometry': {'type': 'Point', 'geodesic': True, 'coordinates': [-99.1393, 19.4407]}, 'id': '13', 'properties': {'date': {'type': 'Date', 'value': 1483808911265}, 'cloud_cover': 5.7718, 'valid': 1, 'landcover_type': 'urban', 'assetID': 'COPERNICUS/S2/20170107T170701_20170107T170831_T14QMG'}}, {'type': 'Feature', 'geometry': {'type': 'Point', 'geodesic': True, 'coordinates': [102.4915, 14.7589]}, 'id': '14', 'properties': {'date': {'type': 'Date', 'value': 1454125062255}, 'cloud_cover': 0.0, 'valid': 1, 'landcover_type': 'cropland_and_natural_vegetation_mosaic', 'assetID': 'COPERNICUS/S2/20160130T033742_20160130T101032_T47PRS'}}, {'type': 'Feature', 'geometry': {'type': 'Point', 'geodesic': True, 'coordinates': [-43.86, 67.27]}, 'id': '15', 'properties': {'landcover_type': 'snow_and_ice', 'valid': 0, 'assetID': 'None'}}, {'type': 'Feature', 'geometry': {'type': 'Point', 'geodesic': True, 'coordinates': [21.094, 25.602]}, 'id': '16', 'properties': {'date': {'type': 'Date', 'value': 1451727167695}, 'cloud_cover': 0.0, 'valid': 1, 'landcover_type': 'barren_or_sparsely_vegetated', 'assetID': 'COPERNICUS/S2/20160102T093247_20160102T125045_T34RDP'}}], 'columns': {}}\n"
     ]
    }
   ],
   "source": [
    "# instantiate Testsites\n",
    "testsites = Testsites()\n",
    "\n",
    "# set attributes\n",
    "quarter = 'Q1' # i.e. quarter of year\n",
    "testsites.maxCloudCover = 10\n",
    "testsites.monthRange = testsites.quarter_to_monthRange('Q1')\n",
    "\n",
    "# find assets\n",
    "fc = testsites.sites.map(testsites.assetFinder)\n",
    "\n",
    "# check\n",
    "print(fc.getInfo())"
   ]
  },
  {
   "cell_type": "code",
   "execution_count": null,
   "metadata": {
    "collapsed": true
   },
   "outputs": [],
   "source": []
  }
 ],
 "metadata": {
  "anaconda-cloud": {},
  "kernelspec": {
   "display_name": "Python [conda root]",
   "language": "python",
   "name": "conda-root-py"
  },
  "language_info": {
   "codemirror_mode": {
    "name": "ipython",
    "version": 3
   },
   "file_extension": ".py",
   "mimetype": "text/x-python",
   "name": "python",
   "nbconvert_exporter": "python",
   "pygments_lexer": "ipython3",
   "version": "3.5.2"
  }
 },
 "nbformat": 4,
 "nbformat_minor": 2
}
